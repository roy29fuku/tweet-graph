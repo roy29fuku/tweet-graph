{
 "cells": [
  {
   "cell_type": "code",
   "execution_count": 2,
   "metadata": {
    "scrolled": false
   },
   "outputs": [],
   "source": [
    "import tweepy\n",
    "import pickle\n",
    "import os.path"
   ]
  },
  {
   "cell_type": "markdown",
   "metadata": {},
   "source": [
    "# Twitter API"
   ]
  },
  {
   "cell_type": "code",
   "execution_count": 45,
   "metadata": {},
   "outputs": [],
   "source": [
    "#Twitter API key\n",
    "consumer_key = ''\n",
    "consumer_secret = ''\n",
    "access_token = ''\n",
    "access_token_secret = ''"
   ]
  },
  {
   "cell_type": "code",
   "execution_count": 46,
   "metadata": {},
   "outputs": [],
   "source": [
    "auth = tweepy.OAuthHandler(consumer_key, consumer_secret)\n",
    "auth.set_access_token(access_token, access_token_secret)\n",
    "api = tweepy.API(auth)"
   ]
  },
  {
   "cell_type": "markdown",
   "metadata": {},
   "source": [
    "Twitter API has restrictions\n",
    "- GET: 15 calls per 15 min"
   ]
  },
  {
   "cell_type": "markdown",
   "metadata": {},
   "source": [
    "#  get retweeters"
   ]
  },
  {
   "cell_type": "code",
   "execution_count": 47,
   "metadata": {},
   "outputs": [],
   "source": [
    "def get_retweeters(api, tweet_id, pickle_path):\n",
    "    if os.path.exists(pickle_path):\n",
    "        with open(pickle_path, 'rb') as f:\n",
    "            retweeters = pickle.load(f)\n",
    "    else:\n",
    "        retweeters = api.retweeters(tweet_id)\n",
    "        with open(pickle_path, 'wb') as f:\n",
    "            pickle.dump(retweeters, f)\n",
    "    return retweeters\n",
    "    \n",
    "def get_retweeters_details(api, retweeters, pickle_path):\n",
    "    \"\"\"retweeters up to 100\"\"\"\n",
    "    friends = {}\n",
    "    followers = {}\n",
    "\n",
    "    if os.path.exists(pickle_path):\n",
    "        with open(pickle_path, 'rb') as f:\n",
    "            retweeters_details = pickle.load(f)\n",
    "    else:\n",
    "        retweeters_details = api.statuses_lookup(retweeters)  \n",
    "        with open(pickle_path, 'wb') as f:\n",
    "            pickle.dump(retweeters_details, f)\n",
    "    return retweeters_details"
   ]
  },
  {
   "cell_type": "code",
   "execution_count": 48,
   "metadata": {
    "scrolled": true
   },
   "outputs": [],
   "source": [
    "tweet_id = '1134738254496800769'  # tweet id of roy29fuku\n",
    "retweeters = get_retweeters(api, tweet_id, 'data/retweeters.pickle')\n",
    "retweeters_details = get_retweeters_details(api, retweeters, 'data/retweeters_details.pickle')"
   ]
  },
  {
   "cell_type": "markdown",
   "metadata": {},
   "source": [
    "---"
   ]
  },
  {
   "cell_type": "markdown",
   "metadata": {},
   "source": [
    "\n",
    "---"
   ]
  },
  {
   "cell_type": "markdown",
   "metadata": {},
   "source": [
    "# get friends and followers"
   ]
  },
  {
   "cell_type": "code",
   "execution_count": 49,
   "metadata": {},
   "outputs": [],
   "source": [
    "def get_friends_and_details(api, user_id):\n",
    "    friends_details = api.friends(user_id)\n",
    "    friends = [f.id for f in friends_details]\n",
    "    return follows, follows_details\n",
    "\n",
    "def get_followers_and_details(api, user_id):\n",
    "    followers_details = api.followers(user_id)\n",
    "    followers = [f.id for f in followers_details]\n",
    "    return followers, followers_details"
   ]
  },
  {
   "cell_type": "code",
   "execution_count": 59,
   "metadata": {
    "scrolled": true
   },
   "outputs": [],
   "source": [
    "src_user_id = '715433541375373312'  # user id of roy29fuku\n",
    "friends, friends_details =get_friends_and_details(api, src_user_id)\n",
    "followers, followers_details = get_followers_and_details(api, src_user_id)"
   ]
  },
  {
   "cell_type": "markdown",
   "metadata": {},
   "source": [
    "---"
   ]
  },
  {
   "cell_type": "markdown",
   "metadata": {},
   "source": [
    "# get follows and followers of retweeters"
   ]
  },
  {
   "cell_type": "code",
   "execution_count": 51,
   "metadata": {},
   "outputs": [],
   "source": [
    "import time\n",
    "from tqdm import tqdm"
   ]
  },
  {
   "cell_type": "code",
   "execution_count": 54,
   "metadata": {
    "scrolled": false
   },
   "outputs": [],
   "source": [
    "rt_friends = {}\n",
    "rt_followers = {}\n",
    "\n",
    "friends_pickle_path = 'data/rt_friends.pickle'\n",
    "if os.path.exists(friends_pickle_path):\n",
    "    with open(friends_pickle_path, 'rb') as f:\n",
    "        rt_friends = pickle.load(f)\n",
    "        has_friends_pickle = True\n",
    "else:\n",
    "        has_friends_pickle = False\n",
    "    \n",
    "followers_pickle_path = 'data/rt_followers.pickle'\n",
    "if os.path.exists(followers_pickle_path):\n",
    "    with open(followers_pickle_path, 'rb') as f:\n",
    "        rt_followers = pickle.load(f)\n",
    "        has_followers_pickle = True\n",
    "else:\n",
    "        has_followers_pickle = False\n",
    "\n",
    "# Twitter API has rate limiting (15 calls per 15 min)\n",
    "sleep_sec = 75\n",
    "if not (has_friends_pickle and has_followers_pickle):\n",
    "    for user_id in tqdm(retweeters):\n",
    "        if not has_friends_pickle:\n",
    "            rt_friends[user_id] = api.friends(user_id)\n",
    "            time.sleep(sleep_sec)\n",
    "        if not has_followers_pickle:\n",
    "            rt_followers[user_id] = api.followers(user_id)\n",
    "            time.sleep(sleep_sec)\n",
    "            \n",
    "if not has_friends_pickle:\n",
    "    with open(friends_pickle_path, 'wb') as f:\n",
    "        pickle.dump(friends, f)\n",
    "    \n",
    "if not has_followers_pickle:\n",
    "    with open(followers_pickle_path, 'wb') as f:\n",
    "        pickle.dump(followers, f)\n"
   ]
  },
  {
   "cell_type": "code",
   "execution_count": 55,
   "metadata": {},
   "outputs": [
    {
     "data": {
      "text/plain": [
       "40"
      ]
     },
     "execution_count": 55,
     "metadata": {},
     "output_type": "execute_result"
    }
   ],
   "source": [
    "len(friends) + len(followers)"
   ]
  },
  {
   "cell_type": "markdown",
   "metadata": {},
   "source": [
    "---"
   ]
  },
  {
   "cell_type": "markdown",
   "metadata": {},
   "source": [
    "# create a graph \n",
    "connect nodes"
   ]
  },
  {
   "cell_type": "code",
   "execution_count": 73,
   "metadata": {},
   "outputs": [],
   "source": [
    "from tweepy.models import User\n",
    "import networkx as nx\n",
    "import matplotlib.pyplot as plt\n",
    "%matplotlib inline\n"
   ]
  },
  {
   "cell_type": "code",
   "execution_count": 57,
   "metadata": {},
   "outputs": [],
   "source": [
    "class Follow:\n",
    "    def __init__(self, followee: User, follower: User):\n",
    "        self.followee = followee\n",
    "        self.follower = follower\n",
    "        \n",
    "class Network:\n",
    "    def __init__(self, nodes, edges):\n",
    "        self.nodes = nodes\n",
    "        self.edges = edges\n",
    "        self.graph = create_network(nodes, edges)\n",
    "    \n",
    "def create_network(node, edges):\n",
    "    graph = nx.DiGraph()\n",
    "    graph.add_nodes_from(nodes)\n",
    "    graph.add_edges_from(edges)\n",
    "    return graph\n",
    "        \n",
    "#     def get_descriptions(self):\n",
    "#         descriptions = [n.description for  n in self.nodes]\n",
    "#         return descriptions\n"
   ]
  },
  {
   "cell_type": "code",
   "execution_count": 70,
   "metadata": {},
   "outputs": [],
   "source": [
    "nodes = []\n",
    "edges = []\n",
    "\n",
    "nodes.append(src_user_id)\n",
    "for friend in friends:\n",
    "    nodes.append(friend)\n",
    "    edges.append((src_user_id, friend))\n",
    "for follower in followers:\n",
    "    nodes.append(follower)\n",
    "    edges.append((follower, src_user_id))\n",
    "\n",
    "for user_id in retweeters:\n",
    "    nodes.append(user_id)\n",
    "    for rt_friend in rt_friends[user_id]:\n",
    "        nodes.append(rt_friend.id)\n",
    "        edges.append((user_id, rt_friend.id))\n",
    "    for rt_follower in rt_followers[user_id]:\n",
    "        nodes.append(rt_follower.id)\n",
    "        edges.append((rt_follower.id, user_id))\n",
    "nodes = list(set(nodes))\n",
    "edges = list(set(edges))"
   ]
  },
  {
   "cell_type": "code",
   "execution_count": 71,
   "metadata": {},
   "outputs": [
    {
     "name": "stdout",
     "output_type": "stream",
     "text": [
      "2717\n",
      "3302\n"
     ]
    }
   ],
   "source": [
    "print(len(nodes))\n",
    "print(len(edges))"
   ]
  },
  {
   "cell_type": "code",
   "execution_count": null,
   "metadata": {},
   "outputs": [],
   "source": []
  },
  {
   "cell_type": "code",
   "execution_count": 61,
   "metadata": {},
   "outputs": [],
   "source": [
    "network = Network([1,2,3], [[1,2],[2,3]])"
   ]
  },
  {
   "cell_type": "code",
   "execution_count": 19,
   "metadata": {},
   "outputs": [
    {
     "ename": "NameError",
     "evalue": "name 'plt' is not defined",
     "traceback": [
      "\u001b[0;31m---------------------------------------------------------------------------\u001b[0m",
      "\u001b[0;31mNameError\u001b[0m                                 Traceback (most recent call last)",
      "\u001b[0;32m<ipython-input-19-74bed47aac4f>\u001b[0m in \u001b[0;36m<module>\u001b[0;34m\u001b[0m\n\u001b[1;32m      2\u001b[0m \u001b[0;34m\u001b[0m\u001b[0m\n\u001b[1;32m      3\u001b[0m \u001b[0mnx\u001b[0m\u001b[0;34m.\u001b[0m\u001b[0mdraw_networkx\u001b[0m\u001b[0;34m(\u001b[0m\u001b[0mnetwork\u001b[0m\u001b[0;34m.\u001b[0m\u001b[0mgraph\u001b[0m\u001b[0;34m)\u001b[0m\u001b[0;34m\u001b[0m\u001b[0m\n\u001b[0;32m----> 4\u001b[0;31m \u001b[0mplt\u001b[0m\u001b[0;34m.\u001b[0m\u001b[0mshow\u001b[0m\u001b[0;34m(\u001b[0m\u001b[0;34m)\u001b[0m\u001b[0;34m\u001b[0m\u001b[0m\n\u001b[0m",
      "\u001b[0;31mNameError\u001b[0m: name 'plt' is not defined"
     ],
     "output_type": "error"
    },
    {
     "data": {
      "image/png": "[encoded data removed]",
      "text/plain": [
       "<Figure size 432x288 with 1 Axes>"
      ]
     },
     "metadata": {},
     "output_type": "display_data"
    }
   ],
   "source": [
    "\n",
    "nx.draw_networkx(network.graph)\n",
    "plt.show()"
   ]
  },
  {
   "cell_type": "code",
   "execution_count": 18,
   "metadata": {},
   "outputs": [
    {
     "data": {
      "text/plain": [
       "<networkx.classes.digraph.DiGraph at 0x132015b70>"
      ]
     },
     "execution_count": 18,
     "metadata": {},
     "output_type": "execute_result"
    }
   ],
   "source": [
    "network.graph"
   ]
  },
  {
   "cell_type": "code",
   "execution_count": null,
   "metadata": {},
   "outputs": [],
   "source": []
  },
  {
   "cell_type": "markdown",
   "metadata": {},
   "source": [
    "# visualize"
   ]
  },
  {
   "cell_type": "code",
   "execution_count": 84,
   "metadata": {},
   "outputs": [],
   "source": [
    "import networkx as nx\n",
    "import matplotlib.pyplot as plt\n",
    "%matplotlib inline"
   ]
  },
  {
   "cell_type": "code",
   "execution_count": 75,
   "metadata": {},
   "outputs": [
    {
     "data": {
      "image/png": "[encoded data removed]",
      "text/plain": [
       "<Figure size 432x288 with 1 Axes>"
      ]
     },
     "metadata": {},
     "output_type": "display_data"
    }
   ],
   "source": [
    "# Be careful of the size of  nodes and edges.\n",
    "G = nx.DiGraph()\n",
    "\n",
    "G.add_nodes_from([1,2,3])\n",
    "G.add_edges_from([[1, 2], [2, 3]])\n",
    "    \n",
    "nx.draw_networkx(G)\n",
    "plt.show()"
   ]
  },
  {
   "cell_type": "code",
   "execution_count": null,
   "metadata": {},
   "outputs": [],
   "source": []
  },
  {
   "cell_type": "code",
   "execution_count": null,
   "metadata": {},
   "outputs": [],
   "source": []
  },
  {
   "cell_type": "markdown",
   "metadata": {},
   "source": [
    "# references\n",
    "- [Twitter API](https://developer.twitter.com/en/docs/accounts-and-users/follow-search-get-users/api-reference/get-friends-ids)\n",
    "- [NetworkX](https://networkx.github.io/documentation/stable/tutorial.html)\n",
    "- [tweepy](https://github.com/tweepy/tweepy)\n",
    "- [twitter-graph](https://github.com/lgallen/twitter-graph)\n"
   ]
  }
 ],
 "metadata": {
  "kernelspec": {
   "display_name": "nlp",
   "language": "python",
   "name": "nlp"
  },
  "language_info": {
   "codemirror_mode": {
    "name": "ipython",
    "version": 3
   },
   "file_extension": ".py",
   "mimetype": "text/x-python",
   "name": "python",
   "nbconvert_exporter": "python",
   "pygments_lexer": "ipython3",
   "version": "3.6.3"
  }
 },
 "nbformat": 4,
 "nbformat_minor": 2
}
