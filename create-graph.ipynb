{
 "cells": [
  {
   "cell_type": "markdown",
   "metadata": {},
   "source": [
    "#  get retweeters"
   ]
  },
  {
   "cell_type": "code",
   "execution_count": null,
   "metadata": {
    "scrolled": true
   },
   "outputs": [],
   "source": [
    "import tweepy"
   ]
  },
  {
   "cell_type": "code",
   "execution_count": null,
   "metadata": {},
   "outputs": [],
   "source": [
    "#Twitter API key\n",
    "consumer_key = ''\n",
    "consumer_secret = ''\n",
    "access_token = ''\n",
    "access_token_secret = ''"
   ]
  },
  {
   "cell_type": "code",
   "execution_count": null,
   "metadata": {},
   "outputs": [],
   "source": [
    "auth = tweepy.OAuthHandler(consumer_key, consumer_secret)\n",
    "auth.set_access_token(access_token, access_token_secret)\n",
    "api = tweepy.API(auth)"
   ]
  },
  {
   "cell_type": "code",
   "execution_count": null,
   "metadata": {
    "scrolled": true
   },
   "outputs": [],
   "source": [
    "tweet_id = '1134738254496800769'\n",
    "retweeters = api.retweeters(tweet_id)\n",
    "print('retweeters: {}'.format(len(retweeters)))"
   ]
  },
  {
   "cell_type": "code",
   "execution_count": null,
   "metadata": {},
   "outputs": [],
   "source": []
  },
  {
   "cell_type": "markdown",
   "metadata": {},
   "source": [
    "# get follows and followers"
   ]
  },
  {
   "cell_type": "code",
   "execution_count": null,
   "metadata": {},
   "outputs": [],
   "source": [
    "user_id = '715433541375373312'\n",
    "friends = api.friends_ids(user_id)\n",
    "followers = api.followers_ids(user_id)\n",
    "\n",
    "print('friends: {}'.format(len(friends)))\n",
    "print('followers: {}'.format(len(followers)))"
   ]
  },
  {
   "cell_type": "code",
   "execution_count": null,
   "metadata": {},
   "outputs": [],
   "source": []
  },
  {
   "cell_type": "code",
   "execution_count": null,
   "metadata": {},
   "outputs": [],
   "source": []
  },
  {
   "cell_type": "markdown",
   "metadata": {},
   "source": [
    "# create a graph "
   ]
  },
  {
   "cell_type": "code",
   "execution_count": null,
   "metadata": {},
   "outputs": [],
   "source": [
    "import networkx"
   ]
  },
  {
   "cell_type": "code",
   "execution_count": null,
   "metadata": {
    "scrolled": true
   },
   "outputs": [],
   "source": [
    "%time\n",
    "\n",
    "# Be careful of the size of  nodes and edges.\n",
    "G = nx.DiGraph()\n",
    "\n",
    "retweeters = retweeters[:10]\n",
    "G.add_nodes_from(retweeters)\n",
    "\n",
    "for user_id in  retweeters:\n",
    "    friends = api.friends_ids(user_id)\n",
    "    followers = api.followers_ids(user_id)\n",
    "    \n",
    "    friend_edges = [(user_id, friend)for friend in friends]\n",
    "    follower_edges = [(user_id, follower)for follower in followers]\n",
    "    \n",
    "    G.add_edges_from(friend_edges)\n",
    "    G.add_edges_from(follower_edges)\n",
    "    \n",
    "nx.draw_networkx(G)\n",
    "plt.show()"
   ]
  },
  {
   "cell_type": "code",
   "execution_count": null,
   "metadata": {},
   "outputs": [],
   "source": []
  },
  {
   "cell_type": "markdown",
   "metadata": {},
   "source": [
    "# references\n",
    "- [Twitter API](https://developer.twitter.com/en/docs/accounts-and-users/follow-search-get-users/api-reference/get-friends-ids)\n",
    "- [NetworkX](https://networkx.github.io/documentation/stable/tutorial.html)\n",
    "- [tweepy](https://github.com/tweepy/tweepy)\n",
    "- [twitter-graph](https://github.com/lgallen/twitter-graph)\n"
   ]
  }
 ],
 "metadata": {
  "kernelspec": {
   "display_name": "tweet-graph",
   "language": "python",
   "name": "tweet-graph"
  },
  "language_info": {
   "codemirror_mode": {
    "name": "ipython",
    "version": 3
   },
   "file_extension": ".py",
   "mimetype": "text/x-python",
   "name": "python",
   "nbconvert_exporter": "python",
   "pygments_lexer": "ipython3",
   "version": "3.6.3"
  }
 },
 "nbformat": 4,
 "nbformat_minor": 2
}
